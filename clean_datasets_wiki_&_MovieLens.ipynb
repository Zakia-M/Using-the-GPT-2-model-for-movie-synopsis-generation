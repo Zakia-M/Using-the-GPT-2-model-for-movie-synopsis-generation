{
 "cells": [
  {
   "cell_type": "markdown",
   "metadata": {},
   "source": [
    "## Data Cleaning"
   ]
  },
  {
   "cell_type": "code",
   "execution_count": 2,
   "metadata": {
    "scrolled": true
   },
   "outputs": [
    {
     "name": "stdout",
     "output_type": "stream",
     "text": [
      "MovieLens movies dataset :\n",
      "Shape =  (46628, 21)\n",
      "Columns : ['id', 'title', 'tagline', 'description', 'genres', 'keywords', 'date', 'collection', 'runtime', 'revenue', 'budget', 'director', 'cast', 'production_companies', 'production_countries', 'popularity', 'average_vote', 'num_votes', 'language', 'imdb_id', 'poster_url'] \n",
      "\n",
      "Wikipedia movies dataset :\n",
      "Shape =  (34886, 8)\n",
      "Columns : ['Release Year', 'Title', 'Origin/Ethnicity', 'Director', 'Cast', 'Genre', 'Wiki Page', 'Plot']\n"
     ]
    }
   ],
   "source": [
    "## Import libraries.\n",
    "import numpy as np\n",
    "import matplotlib.pyplot as plt\n",
    "import pandas as pd\n",
    "## Import datasets\n",
    "# moviesd1 = pd.read_csv(\"datasets/movies_ MovieLens.csv\", header=0)\n",
    "data_ML = pd.read_csv(\"movies.csv\", header=0)\n",
    "df_ML=data_ML.copy()\n",
    "print(\"MovieLens movies dataset :\")\n",
    "print(\"Shape = \", df_ML.shape)\n",
    "print(\"Columns :\" , list(df_ML.columns), \"\\n\")\n",
    "\n",
    "####### Import datasets\n",
    "# moviesde = pd.read_csv(\"datasets/wiki_movie_plots_deduped.csv\", header=0)\n",
    "data_Wiki = pd.read_csv(\"wiki_movie_plots_deduped.csv\", header=0)\n",
    "df_wiki=data_Wiki.copy()\n",
    "print(\"Wikipedia movies dataset :\")\n",
    "print(\"Shape = \", df_wiki.shape)\n",
    "print(\"Columns :\" , list(df_wiki.columns))"
   ]
  },
  {
   "cell_type": "code",
   "execution_count": 3,
   "metadata": {},
   "outputs": [
    {
     "name": "stdout",
     "output_type": "stream",
     "text": [
      "MovieLens dataset shape before cleaning (46628, 2)\n"
     ]
    },
    {
     "name": "stderr",
     "output_type": "stream",
     "text": [
      "<ipython-input-3-088b40461087>:10: FutureWarning: The default value of regex will change from True to False in a future version.\n",
      "  df_ML['title']=df_ML['title'].str.replace('[^\\w\\s]','')\n"
     ]
    },
    {
     "name": "stdout",
     "output_type": "stream",
     "text": [
      "MovieLens dataset shape after cleaning (41122, 3)\n",
      "\n",
      " Wikipedia dataset shape before cleaning (34886, 2)\n"
     ]
    },
    {
     "name": "stderr",
     "output_type": "stream",
     "text": [
      "<ipython-input-3-088b40461087>:28: FutureWarning: The default value of regex will change from True to False in a future version.\n",
      "  df_wiki['Title']=df_wiki['Title'].str.replace('[^\\w\\s]','')\n"
     ]
    },
    {
     "name": "stdout",
     "output_type": "stream",
     "text": [
      "Wikipedia dataset shape after cleaning (31888, 3)\n"
     ]
    }
   ],
   "source": [
    "##### MovieLens dataset\n",
    "df_ML=data_ML[[\"title\",\"description\"]]\n",
    "# \n",
    "print(\"MovieLens dataset shape before cleaning\", df_ML.shape)\n",
    "\n",
    "df_ML=df_ML.dropna()\n",
    "df_ML.drop_duplicates(subset =\"title\",keep='first',inplace=True,ignore_index=True)\n",
    "df_ML.drop_duplicates(subset =\"description\",keep='first',inplace=True,ignore_index=True)\n",
    "\n",
    "df_ML['title']=df_ML['title'].str.replace('[^\\w\\s]','')\n",
    "df_ML.drop_duplicates(subset =\"title\",keep='first',inplace=True,ignore_index=True)\n",
    "df_ML['tt']=df_ML['title']\n",
    "for i in list(df_ML.index):\n",
    "    df_ML['tt'][i]=df_ML['title'][i].replace(\" \", \"\")\n",
    "df_ML.drop_duplicates(subset =\"tt\",keep='first',inplace=True,ignore_index=True)\n",
    "\n",
    "print(\"MovieLens dataset shape after cleaning\", df_ML.shape)\n",
    "m2=df_ML.copy()\n",
    "\n",
    "##### Wikipedia dataset\n",
    "df_wiki=data_Wiki[[\"Title\",\"Plot\"]]\n",
    "# \n",
    "print(\"\\n Wikipedia dataset shape before cleaning\", df_wiki.shape)\n",
    "df_wiki=df_wiki.dropna()\n",
    "df_wiki.drop_duplicates(subset =\"Title\",keep='first',inplace=True,ignore_index=True)\n",
    "df_wiki.drop_duplicates(subset =\"Plot\",keep='first',inplace=True,ignore_index=True)\n",
    "\n",
    "df_wiki['Title']=df_wiki['Title'].str.replace('[^\\w\\s]','')\n",
    "df_wiki.drop_duplicates(subset =\"Title\",keep='first',inplace=True,ignore_index=True)# \n",
    "df_wiki['tt']=df_wiki['Title']\n",
    "for i in list(df_wiki.index):\n",
    "    df_wiki['tt'][i]=df_wiki['Title'][i].replace(\" \", \"\")\n",
    "df_wiki.drop_duplicates(subset =\"tt\",keep='first',inplace=True,ignore_index=True)\n",
    "\n",
    "print(\"Wikipedia dataset shape after cleaning\", df_wiki.shape)\n",
    "m3=df_wiki.copy()"
   ]
  },
  {
   "cell_type": "code",
   "execution_count": 4,
   "metadata": {},
   "outputs": [
    {
     "name": "stdout",
     "output_type": "stream",
     "text": [
      "57970\n"
     ]
    }
   ],
   "source": [
    "# in wiki not in ML\n",
    "df_wiki=(df_wiki[~df_wiki['tt'].isin(df_ML['tt'])])\n",
    "df_ML.rename({ 'description': 'plot'}, axis=1, inplace=True)\n",
    "df_wiki.rename({ 'Plot': 'plot'}, axis=1, inplace=True)\n",
    "df_wiki.rename({ 'Title': 'title'}, axis=1, inplace=True)\n",
    "df_wiki.pop('tt')\n",
    "df_ML.pop('tt')\n",
    "df_wiki.index=[i for i in range(16855)]\n",
    "df_ML.index=[i for i in range(16855, 16855+41122)]\n",
    "# concatenate the two datasets \n",
    "data=pd.concat([df_wiki,df_ML])\n",
    "data.drop_duplicates(subset =\"plot\",keep='first',inplace=True,ignore_index=True)\n",
    "a=\"No overview found.\"\n",
    "no_plot=data[data['plot']==a]\n",
    "data=data[~data['title'].isin(no_plot['title'])]\n",
    "print(len(data))\n",
    "b=\"No movie overview available.\"\n",
    "no_plot2=data[data['plot']==b]\n",
    "data=data[~data['title'].isin(no_plot2['title'])]"
   ]
  },
  {
   "cell_type": "code",
   "execution_count": 5,
   "metadata": {},
   "outputs": [
    {
     "name": "stdout",
     "output_type": "stream",
     "text": [
      "the final number of movies is  57969 movies\n"
     ]
    }
   ],
   "source": [
    "print(\"the final number of movies is \", data.shape[0],'movies')"
   ]
  },
  {
   "cell_type": "code",
   "execution_count": 6,
   "metadata": {},
   "outputs": [
    {
     "data": {
      "text/html": [
       "<div>\n",
       "<style scoped>\n",
       "    .dataframe tbody tr th:only-of-type {\n",
       "        vertical-align: middle;\n",
       "    }\n",
       "\n",
       "    .dataframe tbody tr th {\n",
       "        vertical-align: top;\n",
       "    }\n",
       "\n",
       "    .dataframe thead th {\n",
       "        text-align: right;\n",
       "    }\n",
       "</style>\n",
       "<table border=\"1\" class=\"dataframe\">\n",
       "  <thead>\n",
       "    <tr style=\"text-align: right;\">\n",
       "      <th></th>\n",
       "      <th>title</th>\n",
       "      <th>plot</th>\n",
       "    </tr>\n",
       "  </thead>\n",
       "  <tbody>\n",
       "    <tr>\n",
       "      <th>0</th>\n",
       "      <td>Kansas Saloon Smashers</td>\n",
       "      <td>A bartender is working at a saloon, serving dr...</td>\n",
       "    </tr>\n",
       "    <tr>\n",
       "      <th>1</th>\n",
       "      <td>Love by the Light of the Moon</td>\n",
       "      <td>The moon, painted with a smiling face hangs ov...</td>\n",
       "    </tr>\n",
       "    <tr>\n",
       "      <th>2</th>\n",
       "      <td>The Martyred Presidents</td>\n",
       "      <td>The film, just over a minute long, is composed...</td>\n",
       "    </tr>\n",
       "    <tr>\n",
       "      <th>3</th>\n",
       "      <td>Terrible Teddy the Grizzly King</td>\n",
       "      <td>Lasting just 61 seconds and consisting of two ...</td>\n",
       "    </tr>\n",
       "    <tr>\n",
       "      <th>4</th>\n",
       "      <td>The Suburbanite</td>\n",
       "      <td>The film is about a family who move to the sub...</td>\n",
       "    </tr>\n",
       "  </tbody>\n",
       "</table>\n",
       "</div>"
      ],
      "text/plain": [
       "                             title  \\\n",
       "0           Kansas Saloon Smashers   \n",
       "1    Love by the Light of the Moon   \n",
       "2          The Martyred Presidents   \n",
       "3  Terrible Teddy the Grizzly King   \n",
       "4                  The Suburbanite   \n",
       "\n",
       "                                                plot  \n",
       "0  A bartender is working at a saloon, serving dr...  \n",
       "1  The moon, painted with a smiling face hangs ov...  \n",
       "2  The film, just over a minute long, is composed...  \n",
       "3  Lasting just 61 seconds and consisting of two ...  \n",
       "4  The film is about a family who move to the sub...  "
      ]
     },
     "execution_count": 6,
     "metadata": {},
     "output_type": "execute_result"
    }
   ],
   "source": [
    "data.head(5)"
   ]
  },
  {
   "cell_type": "code",
   "execution_count": 7,
   "metadata": {},
   "outputs": [],
   "source": [
    "data.to_csv (\"datasets/movies_synopsis_cleaned.csv\", index = False, header=True)"
   ]
  },
  {
   "cell_type": "code",
   "execution_count": null,
   "metadata": {},
   "outputs": [],
   "source": []
  }
 ],
 "metadata": {
  "accelerator": "TPU",
  "celltoolbar": "Format de la Cellule Texte Brut",
  "colab": {
   "collapsed_sections": [
    "xb-bp-6fZLc_"
   ],
   "name": "to kabli .ipynb",
   "provenance": [],
   "toc_visible": true
  },
  "kernelspec": {
   "display_name": "Python 3",
   "language": "python",
   "name": "python3"
  }
 },
 "nbformat": 4,
 "nbformat_minor": 1
}
